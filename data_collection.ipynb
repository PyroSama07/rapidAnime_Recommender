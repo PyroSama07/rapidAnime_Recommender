{
 "cells": [
  {
   "cell_type": "code",
   "execution_count": 177,
   "id": "f96719bc",
   "metadata": {},
   "outputs": [],
   "source": [
    "%load_ext cudf.pandas"
   ]
  },
  {
   "cell_type": "code",
   "execution_count": 178,
   "id": "d9429e90",
   "metadata": {},
   "outputs": [],
   "source": [
    "import pandas as pd\n",
    "import requests\n",
    "from bs4 import BeautifulSoup"
   ]
  },
  {
   "cell_type": "code",
   "execution_count": 118,
   "id": "7fe3660a",
   "metadata": {},
   "outputs": [],
   "source": [
    "def get_soup(url):\n",
    "    headers = {'User-Agent': 'Mozilla/5.0 (Windows NT 6.3; Win64; x64) AppleWebKit/537.36 (KHTML, like Gecko) Chrome/54.0.2840.71 Safari/537.36'}\n",
    "    r = requests.get(url,headers=headers)\n",
    "    soup = BeautifulSoup(r.content,'html.parser')\n",
    "    return soup,r"
   ]
  },
  {
   "cell_type": "code",
   "execution_count": 199,
   "id": "5961df6d",
   "metadata": {},
   "outputs": [],
   "source": [
    "def get_anime_details(soup):\n",
    "    details = {}\n",
    "    details['name'] = soup.find(class_='title-name').text\n",
    "    details['description'] = soup.find(itemprop='description').text\n",
    "    details['score']=soup.find(itemprop='ratingValue').text\n",
    "    info_list = [i.text.replace('\\n','').replace(' ','') for i in \n",
    "                 soup.find(class_='leftside').find_all(class_='spaceit_pad')]\n",
    "\n",
    "    cols = ['Type', 'Episodes','Premiered','Studios', 'Source', \n",
    "            'Genres','Rating','Members', 'Favorites']\n",
    "\n",
    "    for col in cols:\n",
    "        details[col.lower()] = next((element.split(':')[-1] for element \n",
    "                             in info_list if col in element),None)\n",
    "\n",
    "    details['genres'] = ','.join(map(str,[i[:len(i)//2] for i in details['genres'].split(',')]))\n",
    "    return pd.DataFrame(details,index=[0])"
   ]
  },
  {
   "cell_type": "code",
   "execution_count": 184,
   "id": "56fe612a",
   "metadata": {},
   "outputs": [],
   "source": [
    "def get_review_detail(review_soup):\n",
    "    details = {}\n",
    "    details['username'] = review_soup.find(class_='username').text.replace('\\n','')\n",
    "    details['anime_name'] = review_soup.find(class_='title').text\n",
    "    details['anime_link'] = review_soup.find(class_='title')['href']\n",
    "    details['recommended'] = review_soup.find(class_='tag').text\n",
    "    details['rating_user'] = review_soup.find(class_='rating').find(class_='num').text\n",
    "    return pd.DataFrame(details,index=[0])"
   ]
  },
  {
   "cell_type": "code",
   "execution_count": 194,
   "id": "707c4a1f",
   "metadata": {},
   "outputs": [],
   "source": [
    "df = pd.DataFrame()"
   ]
  },
  {
   "cell_type": "code",
   "execution_count": 196,
   "id": "2ea6982d",
   "metadata": {},
   "outputs": [],
   "source": [
    "page = 69"
   ]
  },
  {
   "cell_type": "code",
   "execution_count": 197,
   "id": "66565421",
   "metadata": {},
   "outputs": [],
   "source": [
    "url = f'https://myanimelist.net/reviews.php?t=anime&filter_check=&filter_hide=2&preliminary=off&spoiler=on&p={page}'\n",
    "soup,_ = get_soup(url)\n",
    "all_reviews = soup.find_all(class_='review-element js-review-element')\n",
    "for review in all_reviews:\n",
    "    df = pd.concat([df,get_review_detail(review)],ignore_index=True)"
   ]
  },
  {
   "cell_type": "code",
   "execution_count": 203,
   "id": "c21cb93e",
   "metadata": {},
   "outputs": [
    {
     "data": {
      "text/html": [
       "<div>\n",
       "<style scoped>\n",
       "    .dataframe tbody tr th:only-of-type {\n",
       "        vertical-align: middle;\n",
       "    }\n",
       "\n",
       "    .dataframe tbody tr th {\n",
       "        vertical-align: top;\n",
       "    }\n",
       "\n",
       "    .dataframe thead th {\n",
       "        text-align: right;\n",
       "    }\n",
       "</style>\n",
       "<table border=\"1\" class=\"dataframe\">\n",
       "  <thead>\n",
       "    <tr style=\"text-align: right;\">\n",
       "      <th></th>\n",
       "      <th>username</th>\n",
       "      <th>anime_name</th>\n",
       "      <th>anime_link</th>\n",
       "      <th>recommended</th>\n",
       "      <th>rating_user</th>\n",
       "    </tr>\n",
       "  </thead>\n",
       "  <tbody>\n",
       "    <tr>\n",
       "      <th>0</th>\n",
       "      <td>Ruchan68</td>\n",
       "      <td>Zom 100: Zombie ni Naru made ni Shitai 100 no ...</td>\n",
       "      <td>https://myanimelist.net/anime/54112/Zom_100__Z...</td>\n",
       "      <td>Recommended</td>\n",
       "      <td>10</td>\n",
       "    </tr>\n",
       "    <tr>\n",
       "      <th>1</th>\n",
       "      <td>TheEtherea</td>\n",
       "      <td>Rokka no Yuusha</td>\n",
       "      <td>https://myanimelist.net/anime/28497/Rokka_no_Y...</td>\n",
       "      <td>Not Recommended</td>\n",
       "      <td>4</td>\n",
       "    </tr>\n",
       "    <tr>\n",
       "      <th>2</th>\n",
       "      <td>Kays90</td>\n",
       "      <td>The Legend of Heroes: Sen no Kiseki - Northern...</td>\n",
       "      <td>https://myanimelist.net/anime/48441/The_Legend...</td>\n",
       "      <td>Recommended</td>\n",
       "      <td>8</td>\n",
       "    </tr>\n",
       "    <tr>\n",
       "      <th>3</th>\n",
       "      <td>bergars</td>\n",
       "      <td>Omoide Poroporo</td>\n",
       "      <td>https://myanimelist.net/anime/1029/Omoide_Poro...</td>\n",
       "      <td>Recommended</td>\n",
       "      <td>8</td>\n",
       "    </tr>\n",
       "    <tr>\n",
       "      <th>4</th>\n",
       "      <td>Phantom_373</td>\n",
       "      <td>Aura: Maryuuin Kouga Saigo no Tatakai</td>\n",
       "      <td>https://myanimelist.net/anime/14669/Aura__Mary...</td>\n",
       "      <td>Recommended</td>\n",
       "      <td>10</td>\n",
       "    </tr>\n",
       "  </tbody>\n",
       "</table>\n",
       "</div>"
      ],
      "text/plain": [
       "      username                                         anime_name  \\\n",
       "0     Ruchan68  Zom 100: Zombie ni Naru made ni Shitai 100 no ...   \n",
       "1   TheEtherea                                    Rokka no Yuusha   \n",
       "2       Kays90  The Legend of Heroes: Sen no Kiseki - Northern...   \n",
       "3      bergars                                    Omoide Poroporo   \n",
       "4  Phantom_373              Aura: Maryuuin Kouga Saigo no Tatakai   \n",
       "\n",
       "                                          anime_link      recommended  \\\n",
       "0  https://myanimelist.net/anime/54112/Zom_100__Z...      Recommended   \n",
       "1  https://myanimelist.net/anime/28497/Rokka_no_Y...  Not Recommended   \n",
       "2  https://myanimelist.net/anime/48441/The_Legend...      Recommended   \n",
       "3  https://myanimelist.net/anime/1029/Omoide_Poro...      Recommended   \n",
       "4  https://myanimelist.net/anime/14669/Aura__Mary...      Recommended   \n",
       "\n",
       "  rating_user  \n",
       "0          10  \n",
       "1           4  \n",
       "2           8  \n",
       "3           8  \n",
       "4          10  "
      ]
     },
     "execution_count": 203,
     "metadata": {},
     "output_type": "execute_result"
    }
   ],
   "source": [
    "df.head()"
   ]
  },
  {
   "cell_type": "code",
   "execution_count": 202,
   "id": "93d317eb",
   "metadata": {},
   "outputs": [
    {
     "data": {
      "text/html": [
       "<div>\n",
       "<style scoped>\n",
       "    .dataframe tbody tr th:only-of-type {\n",
       "        vertical-align: middle;\n",
       "    }\n",
       "\n",
       "    .dataframe tbody tr th {\n",
       "        vertical-align: top;\n",
       "    }\n",
       "\n",
       "    .dataframe thead th {\n",
       "        text-align: right;\n",
       "    }\n",
       "</style>\n",
       "<table border=\"1\" class=\"dataframe\">\n",
       "  <thead>\n",
       "    <tr style=\"text-align: right;\">\n",
       "      <th></th>\n",
       "      <th>name</th>\n",
       "      <th>description</th>\n",
       "      <th>score</th>\n",
       "      <th>type</th>\n",
       "      <th>episodes</th>\n",
       "      <th>premiered</th>\n",
       "      <th>studios</th>\n",
       "      <th>source</th>\n",
       "      <th>genres</th>\n",
       "      <th>rating</th>\n",
       "      <th>members</th>\n",
       "      <th>favorites</th>\n",
       "    </tr>\n",
       "  </thead>\n",
       "  <tbody>\n",
       "    <tr>\n",
       "      <th>0</th>\n",
       "      <td>Zom 100: Zombie ni Naru made ni Shitai 100 no ...</td>\n",
       "      <td>After graduating from a top university with an...</td>\n",
       "      <td>7.83</td>\n",
       "      <td>TV</td>\n",
       "      <td>12</td>\n",
       "      <td>Summer2023</td>\n",
       "      <td>BUGFILMS</td>\n",
       "      <td>Manga</td>\n",
       "      <td>Action,Comedy,Horror,Supernatural,Suspense</td>\n",
       "      <td>R-17+(violence&amp;profanity)</td>\n",
       "      <td>517,604</td>\n",
       "      <td>3,858</td>\n",
       "    </tr>\n",
       "  </tbody>\n",
       "</table>\n",
       "</div>"
      ],
      "text/plain": [
       "                                                name  \\\n",
       "0  Zom 100: Zombie ni Naru made ni Shitai 100 no ...   \n",
       "\n",
       "                                         description score type episodes  \\\n",
       "0  After graduating from a top university with an...  7.83   TV       12   \n",
       "\n",
       "    premiered   studios source                                      genres  \\\n",
       "0  Summer2023  BUGFILMS  Manga  Action,Comedy,Horror,Supernatural,Suspense   \n",
       "\n",
       "                      rating  members favorites  \n",
       "0  R-17+(violence&profanity)  517,604     3,858  "
      ]
     },
     "execution_count": 202,
     "metadata": {},
     "output_type": "execute_result"
    }
   ],
   "source": [
    "soup,_ = get_soup(df.iloc[0,2])\n",
    "get_anime_details(soup)"
   ]
  },
  {
   "cell_type": "code",
   "execution_count": null,
   "id": "2851ac27",
   "metadata": {},
   "outputs": [],
   "source": []
  }
 ],
 "metadata": {
  "kernelspec": {
   "display_name": "rapidAnime",
   "language": "python",
   "name": "rapidanime"
  },
  "language_info": {
   "codemirror_mode": {
    "name": "ipython",
    "version": 3
   },
   "file_extension": ".py",
   "mimetype": "text/x-python",
   "name": "python",
   "nbconvert_exporter": "python",
   "pygments_lexer": "ipython3",
   "version": "3.10.12"
  }
 },
 "nbformat": 4,
 "nbformat_minor": 5
}
