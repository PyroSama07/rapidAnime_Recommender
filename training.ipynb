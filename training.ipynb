{
 "cells": [
  {
   "cell_type": "code",
   "execution_count": 2,
   "id": "979c895a-499b-4931-b7e2-a9ba877fb337",
   "metadata": {
    "collapsed": true,
    "editable": true,
    "jupyter": {
     "outputs_hidden": true
    },
    "scrolled": true,
    "slideshow": {
     "slide_type": ""
    },
    "tags": []
   },
   "outputs": [
    {
     "name": "stdout",
     "output_type": "stream",
     "text": [
      "Requirement already satisfied: feast==0.31 in /usr/local/lib/python3.10/dist-packages (0.31.0)\n",
      "Requirement already satisfied: faiss-gpu in /usr/local/lib/python3.10/dist-packages (1.7.2)\n",
      "Requirement already satisfied: click<9.0.0,>=7.0.0 in /usr/local/lib/python3.10/dist-packages (from feast==0.31) (8.1.7)\n",
      "Requirement already satisfied: colorama<1,>=0.3.9 in /usr/local/lib/python3.10/dist-packages (from feast==0.31) (0.4.6)\n",
      "Requirement already satisfied: dill~=0.3.0 in /usr/local/lib/python3.10/dist-packages (from feast==0.31) (0.3.8)\n",
      "Requirement already satisfied: fastavro<2,>=1.1.0 in /usr/local/lib/python3.10/dist-packages (from feast==0.31) (1.9.4)\n",
      "Requirement already satisfied: grpcio<2,>=1.47.0 in /usr/local/lib/python3.10/dist-packages (from feast==0.31) (1.63.0)\n",
      "Requirement already satisfied: grpcio-reflection<2,>=1.47.0 in /usr/local/lib/python3.10/dist-packages (from feast==0.31) (1.62.2)\n",
      "Requirement already satisfied: Jinja2<4,>=2 in /usr/local/lib/python3.10/dist-packages (from feast==0.31) (3.1.3)\n",
      "Requirement already satisfied: jsonschema in /usr/local/lib/python3.10/dist-packages (from feast==0.31) (4.20.0)\n",
      "Requirement already satisfied: mmh3 in /usr/local/lib/python3.10/dist-packages (from feast==0.31) (4.1.0)\n",
      "Requirement already satisfied: numpy<3,>=1.22 in /usr/local/lib/python3.10/dist-packages (from feast==0.31) (1.22.4)\n",
      "Requirement already satisfied: pandas<2,>=1.4.3 in /usr/local/lib/python3.10/dist-packages (from feast==0.31) (1.5.2)\n",
      "Requirement already satisfied: pandavro~=1.5.0 in /usr/local/lib/python3.10/dist-packages (from feast==0.31) (1.5.2)\n",
      "Requirement already satisfied: protobuf<5,>3.20 in /usr/local/lib/python3.10/dist-packages (from feast==0.31) (4.25.3)\n",
      "Requirement already satisfied: proto-plus<2,>=1.20.0 in /usr/local/lib/python3.10/dist-packages (from feast==0.31) (1.23.0)\n",
      "Requirement already satisfied: pyarrow<12,>=4 in /usr/local/lib/python3.10/dist-packages (from feast==0.31) (10.0.1.dev0+ga6eabc2b.d20230428)\n",
      "Requirement already satisfied: pydantic<2,>=1 in /usr/local/lib/python3.10/dist-packages (from feast==0.31) (1.10.15)\n",
      "Requirement already satisfied: pygments<3,>=2.12.0 in /usr/local/lib/python3.10/dist-packages (from feast==0.31) (2.17.2)\n",
      "Requirement already satisfied: PyYAML<7,>=5.4.0 in /usr/local/lib/python3.10/dist-packages (from feast==0.31) (6.0.1)\n",
      "Requirement already satisfied: requests in /usr/local/lib/python3.10/dist-packages (from feast==0.31) (2.31.0)\n",
      "Requirement already satisfied: SQLAlchemy<2,>1 in /usr/local/lib/python3.10/dist-packages (from SQLAlchemy[mypy]<2,>1->feast==0.31) (1.4.52)\n",
      "Requirement already satisfied: tabulate<1,>=0.8.0 in /usr/local/lib/python3.10/dist-packages (from feast==0.31) (0.9.0)\n",
      "Requirement already satisfied: tenacity<9,>=7 in /usr/local/lib/python3.10/dist-packages (from feast==0.31) (8.2.3)\n",
      "Requirement already satisfied: toml<1,>=0.10.0 in /usr/local/lib/python3.10/dist-packages (from feast==0.31) (0.10.2)\n",
      "Requirement already satisfied: tqdm<5,>=4 in /usr/local/lib/python3.10/dist-packages (from feast==0.31) (4.66.1)\n",
      "Requirement already satisfied: typeguard==2.13.3 in /usr/local/lib/python3.10/dist-packages (from feast==0.31) (2.13.3)\n",
      "Requirement already satisfied: fastapi<1,>=0.68.0 in /usr/local/lib/python3.10/dist-packages (from feast==0.31) (0.111.0)\n",
      "Requirement already satisfied: uvicorn<1,>=0.14.0 in /usr/local/lib/python3.10/dist-packages (from uvicorn[standard]<1,>=0.14.0->feast==0.31) (0.29.0)\n",
      "Requirement already satisfied: dask>=2021.1.0 in /usr/local/lib/python3.10/dist-packages (from feast==0.31) (2023.1.1)\n",
      "Requirement already satisfied: bowler in /usr/local/lib/python3.10/dist-packages (from feast==0.31) (0.9.0)\n",
      "Requirement already satisfied: httpx>=0.23.3 in /usr/local/lib/python3.10/dist-packages (from feast==0.31) (0.27.0)\n",
      "Requirement already satisfied: cloudpickle>=1.1.1 in /usr/local/lib/python3.10/dist-packages (from dask>=2021.1.0->feast==0.31) (3.0.0)\n",
      "Requirement already satisfied: fsspec>=0.6.0 in /usr/local/lib/python3.10/dist-packages (from dask>=2021.1.0->feast==0.31) (2022.5.0)\n",
      "Requirement already satisfied: packaging>=20.0 in /usr/local/lib/python3.10/dist-packages (from dask>=2021.1.0->feast==0.31) (23.2)\n",
      "Requirement already satisfied: partd>=0.3.10 in /usr/local/lib/python3.10/dist-packages (from dask>=2021.1.0->feast==0.31) (1.4.1)\n",
      "Requirement already satisfied: toolz>=0.8.2 in /usr/local/lib/python3.10/dist-packages (from dask>=2021.1.0->feast==0.31) (0.12.0)\n",
      "Requirement already satisfied: starlette<0.38.0,>=0.37.2 in /usr/local/lib/python3.10/dist-packages (from fastapi<1,>=0.68.0->feast==0.31) (0.37.2)\n",
      "Requirement already satisfied: typing-extensions>=4.8.0 in /usr/local/lib/python3.10/dist-packages (from fastapi<1,>=0.68.0->feast==0.31) (4.9.0)\n",
      "Requirement already satisfied: fastapi-cli>=0.0.2 in /usr/local/lib/python3.10/dist-packages (from fastapi<1,>=0.68.0->feast==0.31) (0.0.2)\n",
      "Requirement already satisfied: python-multipart>=0.0.7 in /usr/local/lib/python3.10/dist-packages (from fastapi<1,>=0.68.0->feast==0.31) (0.0.9)\n",
      "Requirement already satisfied: ujson!=4.0.2,!=4.1.0,!=4.2.0,!=4.3.0,!=5.0.0,!=5.1.0,>=4.0.1 in /usr/local/lib/python3.10/dist-packages (from fastapi<1,>=0.68.0->feast==0.31) (5.9.0)\n",
      "Requirement already satisfied: orjson>=3.2.1 in /usr/local/lib/python3.10/dist-packages (from fastapi<1,>=0.68.0->feast==0.31) (3.10.3)\n",
      "Requirement already satisfied: email_validator>=2.0.0 in /usr/local/lib/python3.10/dist-packages (from fastapi<1,>=0.68.0->feast==0.31) (2.1.1)\n",
      "Requirement already satisfied: anyio in /usr/local/lib/python3.10/dist-packages (from httpx>=0.23.3->feast==0.31) (4.2.0)\n",
      "Requirement already satisfied: certifi in /usr/local/lib/python3.10/dist-packages (from httpx>=0.23.3->feast==0.31) (2023.11.17)\n",
      "Requirement already satisfied: httpcore==1.* in /usr/local/lib/python3.10/dist-packages (from httpx>=0.23.3->feast==0.31) (1.0.5)\n",
      "Requirement already satisfied: idna in /usr/local/lib/python3.10/dist-packages (from httpx>=0.23.3->feast==0.31) (3.6)\n",
      "Requirement already satisfied: sniffio in /usr/local/lib/python3.10/dist-packages (from httpx>=0.23.3->feast==0.31) (1.3.0)\n",
      "Requirement already satisfied: h11<0.15,>=0.13 in /usr/local/lib/python3.10/dist-packages (from httpcore==1.*->httpx>=0.23.3->feast==0.31) (0.14.0)\n",
      "Requirement already satisfied: MarkupSafe>=2.0 in /usr/local/lib/python3.10/dist-packages (from Jinja2<4,>=2->feast==0.31) (2.1.3)\n",
      "Requirement already satisfied: python-dateutil>=2.8.1 in /usr/local/lib/python3.10/dist-packages (from pandas<2,>=1.4.3->feast==0.31) (2.8.2)\n",
      "Requirement already satisfied: pytz>=2020.1 in /usr/local/lib/python3.10/dist-packages (from pandas<2,>=1.4.3->feast==0.31) (2023.3.post1)\n",
      "Requirement already satisfied: six>=1.9 in /usr/lib/python3/dist-packages (from pandavro~=1.5.0->feast==0.31) (1.16.0)\n",
      "Requirement already satisfied: greenlet!=0.4.17 in /usr/local/lib/python3.10/dist-packages (from SQLAlchemy<2,>1->SQLAlchemy[mypy]<2,>1->feast==0.31) (3.0.3)\n",
      "Requirement already satisfied: sqlalchemy2-stubs in /usr/local/lib/python3.10/dist-packages (from SQLAlchemy[mypy]<2,>1->feast==0.31) (0.0.2a38)\n",
      "Requirement already satisfied: mypy>=0.910 in /usr/local/lib/python3.10/dist-packages (from SQLAlchemy[mypy]<2,>1->feast==0.31) (1.10.0)\n",
      "Requirement already satisfied: httptools>=0.5.0 in /usr/local/lib/python3.10/dist-packages (from uvicorn[standard]<1,>=0.14.0->feast==0.31) (0.6.1)\n",
      "Requirement already satisfied: python-dotenv>=0.13 in /usr/local/lib/python3.10/dist-packages (from uvicorn[standard]<1,>=0.14.0->feast==0.31) (1.0.1)\n",
      "Requirement already satisfied: uvloop!=0.15.0,!=0.15.1,>=0.14.0 in /usr/local/lib/python3.10/dist-packages (from uvicorn[standard]<1,>=0.14.0->feast==0.31) (0.19.0)\n",
      "Requirement already satisfied: watchfiles>=0.13 in /usr/local/lib/python3.10/dist-packages (from uvicorn[standard]<1,>=0.14.0->feast==0.31) (0.21.0)\n",
      "Requirement already satisfied: websockets>=10.4 in /usr/local/lib/python3.10/dist-packages (from uvicorn[standard]<1,>=0.14.0->feast==0.31) (12.0)\n",
      "Requirement already satisfied: attrs in /usr/local/lib/python3.10/dist-packages (from bowler->feast==0.31) (23.2.0)\n",
      "Requirement already satisfied: fissix in /usr/local/lib/python3.10/dist-packages (from bowler->feast==0.31) (24.4.24)\n",
      "Requirement already satisfied: moreorless>=0.2.0 in /usr/local/lib/python3.10/dist-packages (from bowler->feast==0.31) (0.4.0)\n",
      "Requirement already satisfied: volatile in /usr/local/lib/python3.10/dist-packages (from bowler->feast==0.31) (2.1.0)\n",
      "Requirement already satisfied: jsonschema-specifications>=2023.03.6 in /usr/local/lib/python3.10/dist-packages (from jsonschema->feast==0.31) (2023.12.1)\n",
      "Requirement already satisfied: referencing>=0.28.4 in /usr/local/lib/python3.10/dist-packages (from jsonschema->feast==0.31) (0.32.1)\n",
      "Requirement already satisfied: rpds-py>=0.7.1 in /usr/local/lib/python3.10/dist-packages (from jsonschema->feast==0.31) (0.17.1)\n",
      "Requirement already satisfied: charset-normalizer<4,>=2 in /usr/local/lib/python3.10/dist-packages (from requests->feast==0.31) (3.3.2)\n",
      "Requirement already satisfied: urllib3<3,>=1.21.1 in /usr/local/lib/python3.10/dist-packages (from requests->feast==0.31) (2.0.7)\n",
      "Requirement already satisfied: dnspython>=2.0.0 in /usr/local/lib/python3.10/dist-packages (from email_validator>=2.0.0->fastapi<1,>=0.68.0->feast==0.31) (2.6.1)\n",
      "Requirement already satisfied: typer>=0.12.3 in /usr/local/lib/python3.10/dist-packages (from fastapi-cli>=0.0.2->fastapi<1,>=0.68.0->feast==0.31) (0.12.3)\n",
      "Requirement already satisfied: mypy-extensions>=1.0.0 in /usr/local/lib/python3.10/dist-packages (from mypy>=0.910->SQLAlchemy[mypy]<2,>1->feast==0.31) (1.0.0)\n",
      "Requirement already satisfied: tomli>=1.1.0 in /usr/local/lib/python3.10/dist-packages (from mypy>=0.910->SQLAlchemy[mypy]<2,>1->feast==0.31) (2.0.1)\n",
      "Requirement already satisfied: locket in /usr/local/lib/python3.10/dist-packages (from partd>=0.3.10->dask>=2021.1.0->feast==0.31) (1.0.0)\n",
      "Requirement already satisfied: exceptiongroup>=1.0.2 in /usr/local/lib/python3.10/dist-packages (from anyio->httpx>=0.23.3->feast==0.31) (1.2.0)\n",
      "Requirement already satisfied: appdirs>=1.4.4 in /usr/local/lib/python3.10/dist-packages (from fissix->bowler->feast==0.31) (1.4.4)\n",
      "Requirement already satisfied: shellingham>=1.3.0 in /usr/local/lib/python3.10/dist-packages (from typer>=0.12.3->fastapi-cli>=0.0.2->fastapi<1,>=0.68.0->feast==0.31) (1.5.4)\n",
      "Requirement already satisfied: rich>=10.11.0 in /usr/local/lib/python3.10/dist-packages (from typer>=0.12.3->fastapi-cli>=0.0.2->fastapi<1,>=0.68.0->feast==0.31) (13.7.1)\n",
      "Requirement already satisfied: markdown-it-py>=2.2.0 in /usr/local/lib/python3.10/dist-packages (from rich>=10.11.0->typer>=0.12.3->fastapi-cli>=0.0.2->fastapi<1,>=0.68.0->feast==0.31) (3.0.0)\n",
      "Requirement already satisfied: mdurl~=0.1 in /usr/local/lib/python3.10/dist-packages (from markdown-it-py>=2.2.0->rich>=10.11.0->typer>=0.12.3->fastapi-cli>=0.0.2->fastapi<1,>=0.68.0->feast==0.31) (0.1.2)\n",
      "\u001b[33mWARNING: Running pip as the 'root' user can result in broken permissions and conflicting behaviour with the system package manager. It is recommended to use a virtual environment instead: https://pip.pypa.io/warnings/venv\u001b[0m\u001b[33m\n",
      "\u001b[0m\n",
      "\u001b[1m[\u001b[0m\u001b[34;49mnotice\u001b[0m\u001b[1;39;49m]\u001b[0m\u001b[39;49m A new release of pip is available: \u001b[0m\u001b[31;49m23.3.2\u001b[0m\u001b[39;49m -> \u001b[0m\u001b[32;49m24.0\u001b[0m\n",
      "\u001b[1m[\u001b[0m\u001b[34;49mnotice\u001b[0m\u001b[1;39;49m]\u001b[0m\u001b[39;49m To update, run: \u001b[0m\u001b[32;49mpip install --upgrade pip\u001b[0m\n"
     ]
    }
   ],
   "source": [
    "!pip install \"feast==0.31\" faiss-gpu "
   ]
  },
  {
   "cell_type": "code",
   "execution_count": 135,
   "id": "bd92a725-4332-45a4-b7e4-c326e991b347",
   "metadata": {},
   "outputs": [],
   "source": [
    "import os\n",
    "import nvtabular as nvt\n",
    "from nvtabular.ops import Rename, Filter, Dropna, LambdaOp, Categorify, \\\n",
    "    TagAsUserFeatures, TagAsUserID, TagAsItemFeatures, TagAsItemID, AddMetadata\n",
    "\n",
    "from merlin.schema.tags import Tags\n",
    "from merlin.dag.ops.subgraph import Subgraph\n",
    "import merlin.models.tf as mm\n",
    "from merlin.io.dataset import Dataset\n",
    "import tensorflow as tf\n",
    "import cudf as pd\n",
    "from merlin.core.dispatch import get_lib\n",
    "\n",
    "from merlin.core.utils import Distributed\n",
    "from merlin.models.xgb import XGBoost\n",
    "\n",
    "os.environ[\"TF_GPU_ALLOCATOR\"] = \"cuda_malloc_async\""
   ]
  },
  {
   "cell_type": "code",
   "execution_count": 4,
   "id": "773df4de-2c62-4f2f-9efe-de3bde814b37",
   "metadata": {},
   "outputs": [],
   "source": [
    "import logging\n",
    "logging.disable(logging.WARNING)"
   ]
  },
  {
   "cell_type": "code",
   "execution_count": 6,
   "id": "b6c3a698-bf55-4d03-a03a-556fb77435fd",
   "metadata": {},
   "outputs": [],
   "source": [
    "anime = get_lib().read_csv('data/anime.csv')\n",
    "review = get_lib().read_csv('data/review.csv')"
   ]
  },
  {
   "cell_type": "code",
   "execution_count": 7,
   "id": "409bf49a-c05a-49a1-8cf2-24ff64a87eba",
   "metadata": {},
   "outputs": [],
   "source": [
    "anime.rename(columns={\"name\":\"anime_name\"},inplace=True)"
   ]
  },
  {
   "cell_type": "code",
   "execution_count": 8,
   "id": "a1d9e5d5-c610-4e2c-b7c5-ae1f16b71644",
   "metadata": {},
   "outputs": [],
   "source": [
    "data = review.merge(anime,on='anime_name')\n",
    "data = data.sample(frac=1).reset_index(drop=True)"
   ]
  },
  {
   "cell_type": "code",
   "execution_count": 9,
   "id": "f5220623-cd99-4523-8d50-a437ad191d2b",
   "metadata": {},
   "outputs": [],
   "source": [
    "data['genre_list']=pd.Series(i.split(',') for i in data['genres'].fillna('').to_arrow().to_pylist())\n",
    "data['source']=pd.Series(i.split(',') for i in data['source'].fillna('').to_arrow().to_pylist())\n",
    "data['studios']=pd.Series(i.split(',') for i in data['studios'].fillna('').to_arrow().to_pylist())\n",
    "data['recommended']=[True if i=='Recommended' else False for i in data['recommended'].to_arrow().to_pylist()]"
   ]
  },
  {
   "cell_type": "code",
   "execution_count": 10,
   "id": "846c4e89-09a4-4a82-84e2-c8581180bee6",
   "metadata": {},
   "outputs": [
    {
     "data": {
      "text/html": [
       "<div>\n",
       "<style scoped>\n",
       "    .dataframe tbody tr th:only-of-type {\n",
       "        vertical-align: middle;\n",
       "    }\n",
       "\n",
       "    .dataframe tbody tr th {\n",
       "        vertical-align: top;\n",
       "    }\n",
       "\n",
       "    .dataframe thead th {\n",
       "        text-align: right;\n",
       "    }\n",
       "</style>\n",
       "<table border=\"1\" class=\"dataframe\">\n",
       "  <thead>\n",
       "    <tr style=\"text-align: right;\">\n",
       "      <th></th>\n",
       "      <th>username</th>\n",
       "      <th>anime_name</th>\n",
       "      <th>anime_link</th>\n",
       "      <th>recommended</th>\n",
       "      <th>rating_user</th>\n",
       "      <th>timestamp</th>\n",
       "      <th>url</th>\n",
       "      <th>description</th>\n",
       "      <th>score</th>\n",
       "      <th>type</th>\n",
       "      <th>...</th>\n",
       "      <th>genre-1</th>\n",
       "      <th>genre-2</th>\n",
       "      <th>genre-3</th>\n",
       "      <th>genre-4</th>\n",
       "      <th>genre-5</th>\n",
       "      <th>genre-6</th>\n",
       "      <th>genre-7</th>\n",
       "      <th>genres</th>\n",
       "      <th>anime_id</th>\n",
       "      <th>genre_list</th>\n",
       "    </tr>\n",
       "  </thead>\n",
       "  <tbody>\n",
       "    <tr>\n",
       "      <th>0</th>\n",
       "      <td>Godslayer27</td>\n",
       "      <td>My Home Hero</td>\n",
       "      <td>https://myanimelist.net/anime/52092/My_Home_Hero</td>\n",
       "      <td>True</td>\n",
       "      <td>7</td>\n",
       "      <td>Nov 28, 2023</td>\n",
       "      <td>https://myanimelist.net/anime/52092/My_Home_Hero</td>\n",
       "      <td>Tetsuo Tosu never expected his daughter, Reika...</td>\n",
       "      <td>7.06</td>\n",
       "      <td>TV</td>\n",
       "      <td>...</td>\n",
       "      <td>Drama</td>\n",
       "      <td>Suspense</td>\n",
       "      <td>&lt;NA&gt;</td>\n",
       "      <td>&lt;NA&gt;</td>\n",
       "      <td>&lt;NA&gt;</td>\n",
       "      <td>&lt;NA&gt;</td>\n",
       "      <td>&lt;NA&gt;</td>\n",
       "      <td>Drama,Suspense</td>\n",
       "      <td>52092</td>\n",
       "      <td>[Drama, Suspense]</td>\n",
       "    </tr>\n",
       "    <tr>\n",
       "      <th>1</th>\n",
       "      <td>flowerscissors</td>\n",
       "      <td>Love Live! Superstar!!</td>\n",
       "      <td>https://myanimelist.net/anime/41169/Love_Live_...</td>\n",
       "      <td>True</td>\n",
       "      <td>9</td>\n",
       "      <td>Oct 18, 2021</td>\n",
       "      <td>https://myanimelist.net/anime/41169/Love_Live_...</td>\n",
       "      <td>Everyone has a dream they strive to achieve, a...</td>\n",
       "      <td>7.95</td>\n",
       "      <td>TV</td>\n",
       "      <td>...</td>\n",
       "      <td>SliceofLife</td>\n",
       "      <td>&lt;NA&gt;</td>\n",
       "      <td>&lt;NA&gt;</td>\n",
       "      <td>&lt;NA&gt;</td>\n",
       "      <td>&lt;NA&gt;</td>\n",
       "      <td>&lt;NA&gt;</td>\n",
       "      <td>&lt;NA&gt;</td>\n",
       "      <td>SliceofLife</td>\n",
       "      <td>41169</td>\n",
       "      <td>[SliceofLife]</td>\n",
       "    </tr>\n",
       "    <tr>\n",
       "      <th>2</th>\n",
       "      <td>Wizard4Hire1219</td>\n",
       "      <td>Fuufu Ijou, Koibito Miman.</td>\n",
       "      <td>https://myanimelist.net/anime/50425/Fuufu_Ijou...</td>\n",
       "      <td>True</td>\n",
       "      <td>10</td>\n",
       "      <td>Feb 7, 2023</td>\n",
       "      <td>https://myanimelist.net/anime/50425/Fuufu_Ijou...</td>\n",
       "      <td>Third-year high school student Jirou Yakuin is...</td>\n",
       "      <td>7.59</td>\n",
       "      <td>TV</td>\n",
       "      <td>...</td>\n",
       "      <td>Romance</td>\n",
       "      <td>&lt;NA&gt;</td>\n",
       "      <td>&lt;NA&gt;</td>\n",
       "      <td>&lt;NA&gt;</td>\n",
       "      <td>&lt;NA&gt;</td>\n",
       "      <td>&lt;NA&gt;</td>\n",
       "      <td>&lt;NA&gt;</td>\n",
       "      <td>Romance</td>\n",
       "      <td>50425</td>\n",
       "      <td>[Romance]</td>\n",
       "    </tr>\n",
       "    <tr>\n",
       "      <th>3</th>\n",
       "      <td>Ailes_Grises</td>\n",
       "      <td>Kimi no Suizou wo Tabetai</td>\n",
       "      <td>https://myanimelist.net/anime/36098/Kimi_no_Su...</td>\n",
       "      <td>False</td>\n",
       "      <td>3</td>\n",
       "      <td>Nov 21, 2023</td>\n",
       "      <td>https://myanimelist.net/anime/36098/Kimi_no_Su...</td>\n",
       "      <td>The aloof protagonist: a bookworm who is deepl...</td>\n",
       "      <td>8.55</td>\n",
       "      <td>Movie</td>\n",
       "      <td>...</td>\n",
       "      <td>Drama</td>\n",
       "      <td>Romance</td>\n",
       "      <td>&lt;NA&gt;</td>\n",
       "      <td>&lt;NA&gt;</td>\n",
       "      <td>&lt;NA&gt;</td>\n",
       "      <td>&lt;NA&gt;</td>\n",
       "      <td>&lt;NA&gt;</td>\n",
       "      <td>Drama,Romance</td>\n",
       "      <td>36098</td>\n",
       "      <td>[Drama, Romance]</td>\n",
       "    </tr>\n",
       "    <tr>\n",
       "      <th>4</th>\n",
       "      <td>TetGaming</td>\n",
       "      <td>No Game No Life</td>\n",
       "      <td>https://myanimelist.net/anime/19815/No_Game_No...</td>\n",
       "      <td>True</td>\n",
       "      <td>9</td>\n",
       "      <td>Jul 25, 2023</td>\n",
       "      <td>https://myanimelist.net/anime/19815/No_Game_No...</td>\n",
       "      <td>Sixteen sentient races inhabit Disboard, a wor...</td>\n",
       "      <td>8.06</td>\n",
       "      <td>TV</td>\n",
       "      <td>...</td>\n",
       "      <td>Comedy</td>\n",
       "      <td>Fantasy</td>\n",
       "      <td>Ecchi</td>\n",
       "      <td>&lt;NA&gt;</td>\n",
       "      <td>&lt;NA&gt;</td>\n",
       "      <td>&lt;NA&gt;</td>\n",
       "      <td>&lt;NA&gt;</td>\n",
       "      <td>Comedy,Fantasy,Ecchi</td>\n",
       "      <td>19815</td>\n",
       "      <td>[Comedy, Fantasy, Ecchi]</td>\n",
       "    </tr>\n",
       "  </tbody>\n",
       "</table>\n",
       "<p>5 rows × 27 columns</p>\n",
       "</div>"
      ],
      "text/plain": [
       "          username                  anime_name  \\\n",
       "0      Godslayer27                My Home Hero   \n",
       "1   flowerscissors      Love Live! Superstar!!   \n",
       "2  Wizard4Hire1219  Fuufu Ijou, Koibito Miman.   \n",
       "3     Ailes_Grises   Kimi no Suizou wo Tabetai   \n",
       "4        TetGaming             No Game No Life   \n",
       "\n",
       "                                          anime_link  recommended  \\\n",
       "0   https://myanimelist.net/anime/52092/My_Home_Hero         True   \n",
       "1  https://myanimelist.net/anime/41169/Love_Live_...         True   \n",
       "2  https://myanimelist.net/anime/50425/Fuufu_Ijou...         True   \n",
       "3  https://myanimelist.net/anime/36098/Kimi_no_Su...        False   \n",
       "4  https://myanimelist.net/anime/19815/No_Game_No...         True   \n",
       "\n",
       "   rating_user     timestamp  \\\n",
       "0            7  Nov 28, 2023   \n",
       "1            9  Oct 18, 2021   \n",
       "2           10   Feb 7, 2023   \n",
       "3            3  Nov 21, 2023   \n",
       "4            9  Jul 25, 2023   \n",
       "\n",
       "                                                 url  \\\n",
       "0   https://myanimelist.net/anime/52092/My_Home_Hero   \n",
       "1  https://myanimelist.net/anime/41169/Love_Live_...   \n",
       "2  https://myanimelist.net/anime/50425/Fuufu_Ijou...   \n",
       "3  https://myanimelist.net/anime/36098/Kimi_no_Su...   \n",
       "4  https://myanimelist.net/anime/19815/No_Game_No...   \n",
       "\n",
       "                                         description  score   type  ...  \\\n",
       "0  Tetsuo Tosu never expected his daughter, Reika...   7.06     TV  ...   \n",
       "1  Everyone has a dream they strive to achieve, a...   7.95     TV  ...   \n",
       "2  Third-year high school student Jirou Yakuin is...   7.59     TV  ...   \n",
       "3  The aloof protagonist: a bookworm who is deepl...   8.55  Movie  ...   \n",
       "4  Sixteen sentient races inhabit Disboard, a wor...   8.06     TV  ...   \n",
       "\n",
       "       genre-1   genre-2 genre-3 genre-4 genre-5 genre-6 genre-7  \\\n",
       "0        Drama  Suspense    <NA>    <NA>    <NA>    <NA>    <NA>   \n",
       "1  SliceofLife      <NA>    <NA>    <NA>    <NA>    <NA>    <NA>   \n",
       "2      Romance      <NA>    <NA>    <NA>    <NA>    <NA>    <NA>   \n",
       "3        Drama   Romance    <NA>    <NA>    <NA>    <NA>    <NA>   \n",
       "4       Comedy   Fantasy   Ecchi    <NA>    <NA>    <NA>    <NA>   \n",
       "\n",
       "                 genres anime_id                genre_list  \n",
       "0        Drama,Suspense    52092         [Drama, Suspense]  \n",
       "1           SliceofLife    41169             [SliceofLife]  \n",
       "2               Romance    50425                 [Romance]  \n",
       "3         Drama,Romance    36098          [Drama, Romance]  \n",
       "4  Comedy,Fantasy,Ecchi    19815  [Comedy, Fantasy, Ecchi]  \n",
       "\n",
       "[5 rows x 27 columns]"
      ]
     },
     "execution_count": 10,
     "metadata": {},
     "output_type": "execute_result"
    }
   ],
   "source": [
    "data.head()"
   ]
  },
  {
   "cell_type": "code",
   "execution_count": 11,
   "id": "b507145f-f227-4386-9cd1-aab9adf771a7",
   "metadata": {},
   "outputs": [
    {
     "data": {
      "text/plain": [
       "username           0\n",
       "anime_name         0\n",
       "anime_link         0\n",
       "recommended        0\n",
       "rating_user        0\n",
       "timestamp          0\n",
       "url                0\n",
       "description        0\n",
       "score            112\n",
       "type             112\n",
       "episodes         112\n",
       "premiered      15947\n",
       "studios            0\n",
       "source             0\n",
       "rating           112\n",
       "members          112\n",
       "favorites        112\n",
       "genre-1          570\n",
       "genre-2        10784\n",
       "genre-3        29063\n",
       "genre-4        48740\n",
       "genre-5        57010\n",
       "genre-6        59620\n",
       "genre-7        60293\n",
       "genres           570\n",
       "anime_id           0\n",
       "genre_list         0\n",
       "dtype: int64"
      ]
     },
     "execution_count": 11,
     "metadata": {},
     "output_type": "execute_result"
    }
   ],
   "source": [
    "data.isnull().sum()"
   ]
  },
  {
   "cell_type": "code",
   "execution_count": 12,
   "id": "485571bf-d33d-4c9f-b172-9a089e010d3b",
   "metadata": {},
   "outputs": [],
   "source": [
    "train = data.iloc[:48320]\n",
    "valid = data.iloc[48320:]"
   ]
  },
  {
   "cell_type": "code",
   "execution_count": 13,
   "id": "fdacbe58-a766-45f3-af13-47220d59b5b1",
   "metadata": {},
   "outputs": [],
   "source": [
    "train_ds = nvt.Dataset(train, npartitions=10)\n",
    "valid_ds = nvt.Dataset(valid)"
   ]
  },
  {
   "cell_type": "code",
   "execution_count": 14,
   "id": "dc550126-496f-4ebe-8bad-51d90904d250",
   "metadata": {},
   "outputs": [],
   "source": [
    "userId = ['username'] >> nvt.ops.Categorify() >> nvt.ops.AddTags(tags=[Tags.USER_ID, Tags.CATEGORICAL, Tags.USER])\n",
    "movieId = ['anime_name'] >> nvt.ops.Categorify() >> nvt.ops.AddTags(tags=[Tags.ITEM_ID, Tags.CATEGORICAL, Tags.ITEM])\n",
    "genre = ['genre_list'] >> nvt.ops.Categorify(freq_threshold=7) >> TagAsItemFeatures()\n",
    "studio = ['studios'] >> nvt.ops.Categorify(freq_threshold=7) >> TagAsItemFeatures()\n",
    "source = ['source'] >> nvt.ops.Categorify(freq_threshold=7) >> TagAsItemFeatures()\n",
    "\n",
    "recommended = ['recommended'] >> nvt.ops.AddTags(tags=[Tags.TARGET, Tags.BINARY_CLASSIFICATION])\n",
    "score = (['score'] >>\n",
    "         nvt.ops.FillMissing(5) >>\n",
    "         nvt.ops.Normalize() >>\n",
    "         LambdaOp(lambda x: x.astype(\"float32\"))>>\n",
    "         TagAsItemFeatures()\n",
    "        )\n",
    "type = (['type'] >>\n",
    "        nvt.ops.FillMissing('Old') >>\n",
    "        nvt.ops.Categorify() >>\n",
    "        TagAsItemFeatures()\n",
    "       )\n",
    "rating = (['rating'] >>\n",
    "        nvt.ops.FillMissing('Not Rated') >>\n",
    "        nvt.ops.Categorify() >>\n",
    "        TagAsItemFeatures()\n",
    "       )\n",
    "# episode = (['episodes']>>\n",
    "#            nvt.ops.FillMissing(0)>>\n",
    "#            nvt.ops.Normalize()>>\n",
    "#            LambdaOp(lambda x: x.astype(\"float\"))>>\n",
    "#            TagAsItemFeatures()\n",
    "#           )"
   ]
  },
  {
   "cell_type": "code",
   "execution_count": 15,
   "id": "c424878b-7e9d-4bdc-a2bb-0da0ec88a8ec",
   "metadata": {},
   "outputs": [],
   "source": [
    "workflow = nvt.Workflow(userId + movieId + genre + recommended + score + type + rating + studio + source)"
   ]
  },
  {
   "cell_type": "code",
   "execution_count": 34,
   "id": "c5087540-3ccd-4655-a7e9-e201aac81e4d",
   "metadata": {},
   "outputs": [
    {
     "data": {
      "text/html": [
       "<div>\n",
       "<style scoped>\n",
       "    .dataframe tbody tr th:only-of-type {\n",
       "        vertical-align: middle;\n",
       "    }\n",
       "\n",
       "    .dataframe tbody tr th {\n",
       "        vertical-align: top;\n",
       "    }\n",
       "\n",
       "    .dataframe thead th {\n",
       "        text-align: right;\n",
       "    }\n",
       "</style>\n",
       "<table border=\"1\" class=\"dataframe\">\n",
       "  <thead>\n",
       "    <tr style=\"text-align: right;\">\n",
       "      <th></th>\n",
       "      <th>username</th>\n",
       "      <th>anime_name</th>\n",
       "      <th>genre_list</th>\n",
       "      <th>recommended</th>\n",
       "      <th>score</th>\n",
       "      <th>type</th>\n",
       "      <th>rating</th>\n",
       "      <th>studios</th>\n",
       "      <th>source</th>\n",
       "    </tr>\n",
       "  </thead>\n",
       "  <tbody>\n",
       "    <tr>\n",
       "      <th>0</th>\n",
       "      <td>1863</td>\n",
       "      <td>159</td>\n",
       "      <td>[12, 8, 10]</td>\n",
       "      <td>True</td>\n",
       "      <td>0.737789</td>\n",
       "      <td>3</td>\n",
       "      <td>4</td>\n",
       "      <td>[28]</td>\n",
       "      <td>[5]</td>\n",
       "    </tr>\n",
       "    <tr>\n",
       "      <th>1</th>\n",
       "      <td>21570</td>\n",
       "      <td>53</td>\n",
       "      <td>[3, 5, 8, 9]</td>\n",
       "      <td>True</td>\n",
       "      <td>-0.434288</td>\n",
       "      <td>3</td>\n",
       "      <td>3</td>\n",
       "      <td>[4, 21, 6]</td>\n",
       "      <td>[4]</td>\n",
       "    </tr>\n",
       "    <tr>\n",
       "      <th>2</th>\n",
       "      <td>6171</td>\n",
       "      <td>9</td>\n",
       "      <td>[3, 13, 4]</td>\n",
       "      <td>False</td>\n",
       "      <td>1.017843</td>\n",
       "      <td>3</td>\n",
       "      <td>4</td>\n",
       "      <td>[5]</td>\n",
       "      <td>[3]</td>\n",
       "    </tr>\n",
       "    <tr>\n",
       "      <th>3</th>\n",
       "      <td>1085</td>\n",
       "      <td>571</td>\n",
       "      <td>[16, 10]</td>\n",
       "      <td>True</td>\n",
       "      <td>-0.309820</td>\n",
       "      <td>3</td>\n",
       "      <td>3</td>\n",
       "      <td>[27]</td>\n",
       "      <td>[6]</td>\n",
       "    </tr>\n",
       "    <tr>\n",
       "      <th>4</th>\n",
       "      <td>2</td>\n",
       "      <td>19</td>\n",
       "      <td>[3, 7, 5, 4, 23]</td>\n",
       "      <td>True</td>\n",
       "      <td>-1.326311</td>\n",
       "      <td>3</td>\n",
       "      <td>5</td>\n",
       "      <td>[41]</td>\n",
       "      <td>[5]</td>\n",
       "    </tr>\n",
       "    <tr>\n",
       "      <th>...</th>\n",
       "      <td>...</td>\n",
       "      <td>...</td>\n",
       "      <td>...</td>\n",
       "      <td>...</td>\n",
       "      <td>...</td>\n",
       "      <td>...</td>\n",
       "      <td>...</td>\n",
       "      <td>...</td>\n",
       "      <td>...</td>\n",
       "    </tr>\n",
       "    <tr>\n",
       "      <th>12075</th>\n",
       "      <td>2</td>\n",
       "      <td>70</td>\n",
       "      <td>[3, 7, 5]</td>\n",
       "      <td>True</td>\n",
       "      <td>1.235662</td>\n",
       "      <td>3</td>\n",
       "      <td>4</td>\n",
       "      <td>[5]</td>\n",
       "      <td>[3]</td>\n",
       "    </tr>\n",
       "    <tr>\n",
       "      <th>12076</th>\n",
       "      <td>2</td>\n",
       "      <td>655</td>\n",
       "      <td>[6, 8]</td>\n",
       "      <td>True</td>\n",
       "      <td>0.291777</td>\n",
       "      <td>3</td>\n",
       "      <td>3</td>\n",
       "      <td>[3]</td>\n",
       "      <td>[3]</td>\n",
       "    </tr>\n",
       "    <tr>\n",
       "      <th>12077</th>\n",
       "      <td>765</td>\n",
       "      <td>1295</td>\n",
       "      <td>[3, 7, 5]</td>\n",
       "      <td>True</td>\n",
       "      <td>-0.807693</td>\n",
       "      <td>4</td>\n",
       "      <td>5</td>\n",
       "      <td>[72]</td>\n",
       "      <td>[3]</td>\n",
       "    </tr>\n",
       "    <tr>\n",
       "      <th>12078</th>\n",
       "      <td>2</td>\n",
       "      <td>1437</td>\n",
       "      <td>[3, 7, 4]</td>\n",
       "      <td>False</td>\n",
       "      <td>-1.834557</td>\n",
       "      <td>3</td>\n",
       "      <td>3</td>\n",
       "      <td>[24]</td>\n",
       "      <td>[9]</td>\n",
       "    </tr>\n",
       "    <tr>\n",
       "      <th>12079</th>\n",
       "      <td>384</td>\n",
       "      <td>2</td>\n",
       "      <td>[3, 7, 6]</td>\n",
       "      <td>True</td>\n",
       "      <td>-0.309820</td>\n",
       "      <td>7</td>\n",
       "      <td>3</td>\n",
       "      <td>[51]</td>\n",
       "      <td>[3]</td>\n",
       "    </tr>\n",
       "  </tbody>\n",
       "</table>\n",
       "<p>12080 rows × 9 columns</p>\n",
       "</div>"
      ],
      "text/plain": [
       "       username  anime_name        genre_list  recommended     score  type  \\\n",
       "0          1863         159       [12, 8, 10]         True  0.737789     3   \n",
       "1         21570          53      [3, 5, 8, 9]         True -0.434288     3   \n",
       "2          6171           9        [3, 13, 4]        False  1.017843     3   \n",
       "3          1085         571          [16, 10]         True -0.309820     3   \n",
       "4             2          19  [3, 7, 5, 4, 23]         True -1.326311     3   \n",
       "...         ...         ...               ...          ...       ...   ...   \n",
       "12075         2          70         [3, 7, 5]         True  1.235662     3   \n",
       "12076         2         655            [6, 8]         True  0.291777     3   \n",
       "12077       765        1295         [3, 7, 5]         True -0.807693     4   \n",
       "12078         2        1437         [3, 7, 4]        False -1.834557     3   \n",
       "12079       384           2         [3, 7, 6]         True -0.309820     7   \n",
       "\n",
       "       rating     studios source  \n",
       "0           4        [28]    [5]  \n",
       "1           3  [4, 21, 6]    [4]  \n",
       "2           4         [5]    [3]  \n",
       "3           3        [27]    [6]  \n",
       "4           5        [41]    [5]  \n",
       "...       ...         ...    ...  \n",
       "12075       4         [5]    [3]  \n",
       "12076       3         [3]    [3]  \n",
       "12077       5        [72]    [3]  \n",
       "12078       3        [24]    [9]  \n",
       "12079       3        [51]    [3]  \n",
       "\n",
       "[12080 rows x 9 columns]"
      ]
     },
     "execution_count": 34,
     "metadata": {},
     "output_type": "execute_result"
    }
   ],
   "source": [
    "train = workflow.fit_transform(train_ds)\n",
    "valid = workflow.transform(valid_ds)\n",
    "valid.compute()"
   ]
  },
  {
   "cell_type": "code",
   "execution_count": 35,
   "id": "3e0b0e22-faeb-4f13-a99d-6810a924f4b3",
   "metadata": {},
   "outputs": [],
   "source": [
    "schema = train.schema\n",
    "target_column = 'recommended'"
   ]
  },
  {
   "cell_type": "code",
   "execution_count": 115,
   "id": "2dd272e6-3b6d-4340-94cc-806a3cb23171",
   "metadata": {},
   "outputs": [],
   "source": [
    "batch_size = 64\n",
    "LR = 1e-3"
   ]
  },
  {
   "cell_type": "markdown",
   "id": "c983630e-b81c-42a1-8b85-35ec0dce2d0c",
   "metadata": {},
   "source": [
    "## NCF Model"
   ]
  },
  {
   "cell_type": "code",
   "execution_count": 121,
   "id": "9b039b17-894e-45b1-9f12-fcbb1061e951",
   "metadata": {},
   "outputs": [],
   "source": [
    "model = mm.benchmark.NCFModel(\n",
    "    schema,\n",
    "    embedding_dim=64,\n",
    "    mlp_block=mm.MLPBlock([128, 64]),\n",
    "    prediction_tasks=mm.BinaryOutput(target_column),\n",
    ")"
   ]
  },
  {
   "cell_type": "code",
   "execution_count": 122,
   "id": "758e9ccd-7020-458d-bf40-39ec3c2f369f",
   "metadata": {},
   "outputs": [
    {
     "name": "stdout",
     "output_type": "stream",
     "text": [
      "Epoch 1/10\n"
     ]
    },
    {
     "name": "stderr",
     "output_type": "stream",
     "text": [
      "2024-05-05 19:37:01.205031: I tensorflow/core/common_runtime/executor.cc:1209] [/device:CPU:0] (DEBUG INFO) Executor start aborting (this does not indicate an error and you can ignore this message): INVALID_ARGUMENT: You must feed a value for placeholder tensor 'Placeholder/_0' with dtype int32\n",
      "\t [[{{node Placeholder/_0}}]]\n"
     ]
    },
    {
     "name": "stdout",
     "output_type": "stream",
     "text": [
      "748/755 [============================>.] - ETA: 0s - loss: 0.6584 - auc_11: 0.4985 - regularization_loss: 0.0000e+00 - loss_batch: 0.6584"
     ]
    },
    {
     "name": "stderr",
     "output_type": "stream",
     "text": [
      "2024-05-05 19:37:06.032371: I tensorflow/core/common_runtime/executor.cc:1209] [/device:CPU:0] (DEBUG INFO) Executor start aborting (this does not indicate an error and you can ignore this message): INVALID_ARGUMENT: You must feed a value for placeholder tensor 'Placeholder/_0' with dtype int32\n",
      "\t [[{{node Placeholder/_0}}]]\n"
     ]
    },
    {
     "name": "stdout",
     "output_type": "stream",
     "text": [
      "755/755 [==============================] - 6s 6ms/step - loss: 0.6581 - auc_11: 0.4989 - regularization_loss: 0.0000e+00 - loss_batch: 0.6580 - val_loss: 0.6271 - val_auc_11: 0.4894 - val_regularization_loss: 0.0000e+00 - val_loss_batch: 0.6135\n",
      "Epoch 2/10\n",
      "755/755 [==============================] - 4s 5ms/step - loss: 0.6000 - auc_11: 0.4992 - regularization_loss: 0.0000e+00 - loss_batch: 0.5999 - val_loss: 0.5756 - val_auc_11: 0.5048 - val_regularization_loss: 0.0000e+00 - val_loss_batch: 0.5490\n",
      "Epoch 3/10\n",
      "755/755 [==============================] - 4s 5ms/step - loss: 0.5542 - auc_11: 0.5007 - regularization_loss: 0.0000e+00 - loss_batch: 0.5542 - val_loss: 0.5372 - val_auc_11: 0.5079 - val_regularization_loss: 0.0000e+00 - val_loss_batch: 0.4977\n",
      "Epoch 4/10\n",
      "755/755 [==============================] - 4s 5ms/step - loss: 0.5239 - auc_11: 0.5023 - regularization_loss: 0.0000e+00 - loss_batch: 0.5238 - val_loss: 0.5144 - val_auc_11: 0.5105 - val_regularization_loss: 0.0000e+00 - val_loss_batch: 0.4630\n",
      "Epoch 5/10\n",
      "755/755 [==============================] - 4s 5ms/step - loss: 0.5079 - auc_11: 0.5066 - regularization_loss: 0.0000e+00 - loss_batch: 0.5078 - val_loss: 0.5035 - val_auc_11: 0.5121 - val_regularization_loss: 0.0000e+00 - val_loss_batch: 0.4432\n",
      "Epoch 6/10\n",
      "755/755 [==============================] - 4s 5ms/step - loss: 0.5010 - auc_11: 0.5104 - regularization_loss: 0.0000e+00 - loss_batch: 0.5011 - val_loss: 0.4990 - val_auc_11: 0.5153 - val_regularization_loss: 0.0000e+00 - val_loss_batch: 0.4328\n",
      "Epoch 7/10\n",
      "755/755 [==============================] - 4s 6ms/step - loss: 0.4984 - auc_11: 0.5156 - regularization_loss: 0.0000e+00 - loss_batch: 0.4983 - val_loss: 0.4972 - val_auc_11: 0.5179 - val_regularization_loss: 0.0000e+00 - val_loss_batch: 0.4274\n",
      "Epoch 8/10\n",
      "755/755 [==============================] - 4s 6ms/step - loss: 0.4975 - auc_11: 0.5204 - regularization_loss: 0.0000e+00 - loss_batch: 0.4973 - val_loss: 0.4965 - val_auc_11: 0.5244 - val_regularization_loss: 0.0000e+00 - val_loss_batch: 0.4246\n",
      "Epoch 9/10\n",
      "755/755 [==============================] - 4s 5ms/step - loss: 0.4970 - auc_11: 0.5248 - regularization_loss: 0.0000e+00 - loss_batch: 0.4970 - val_loss: 0.4961 - val_auc_11: 0.5235 - val_regularization_loss: 0.0000e+00 - val_loss_batch: 0.4230\n",
      "Epoch 10/10\n",
      "755/755 [==============================] - 4s 6ms/step - loss: 0.4968 - auc_11: 0.5289 - regularization_loss: 0.0000e+00 - loss_batch: 0.4967 - val_loss: 0.4959 - val_auc_11: 0.5305 - val_regularization_loss: 0.0000e+00 - val_loss_batch: 0.4222\n",
      "CPU times: user 1min 19s, sys: 8.98 s, total: 1min 28s\n",
      "Wall time: 44.8 s\n"
     ]
    }
   ],
   "source": [
    "%%time\n",
    "opt = tf.keras.optimizers.legacy.Adagrad(learning_rate=LR)\n",
    "model.compile(optimizer=opt, run_eagerly=False, metrics=[tf.keras.metrics.AUC()])\n",
    "history_ncf = model.fit(train, validation_data=valid, batch_size=batch_size,epochs=10)"
   ]
  },
  {
   "cell_type": "code",
   "execution_count": 123,
   "id": "05214596-c7a7-4e81-a3c7-4311e154b98d",
   "metadata": {},
   "outputs": [
    {
     "name": "stdout",
     "output_type": "stream",
     "text": [
      "  1/189 [..............................] - ETA: 32s - loss: 0.5471 - auc_11: 0.4891 - regularization_loss: 0.0000e+00 - loss_batch: 0.5471"
     ]
    },
    {
     "name": "stderr",
     "output_type": "stream",
     "text": [
      "2024-05-05 19:37:45.233529: I tensorflow/core/common_runtime/executor.cc:1209] [/device:CPU:0] (DEBUG INFO) Executor start aborting (this does not indicate an error and you can ignore this message): INVALID_ARGUMENT: You must feed a value for placeholder tensor 'Placeholder/_0' with dtype int32\n",
      "\t [[{{node Placeholder/_0}}]]\n"
     ]
    },
    {
     "name": "stdout",
     "output_type": "stream",
     "text": [
      "189/189 [==============================] - 1s 3ms/step - loss: 0.4959 - auc_11: 0.5305 - regularization_loss: 0.0000e+00 - loss_batch: 0.4954\n"
     ]
    },
    {
     "data": {
      "text/plain": [
       "{'loss': 0.4959215223789215,\n",
       " 'auc_11': 0.530495285987854,\n",
       " 'regularization_loss': 0.0,\n",
       " 'loss_batch': 0.42217084765434265}"
      ]
     },
     "execution_count": 123,
     "metadata": {},
     "output_type": "execute_result"
    }
   ],
   "source": [
    "metrics_ncf = model.evaluate(valid, batch_size=64, return_dict=True)\n",
    "metrics_ncf"
   ]
  },
  {
   "cell_type": "markdown",
   "id": "bf11b0ab-c290-4ebe-9650-f1d9b10116f7",
   "metadata": {},
   "source": [
    "## MLP Model"
   ]
  },
  {
   "cell_type": "code",
   "execution_count": 124,
   "id": "1a693c0a-268d-4472-816d-b625404b4268",
   "metadata": {},
   "outputs": [],
   "source": [
    "model = mm.Model.from_block(mm.MLPBlock([64, 32]),\n",
    "    schema, prediction_tasks=mm.BinaryOutput(target_column)\n",
    ")"
   ]
  },
  {
   "cell_type": "code",
   "execution_count": 125,
   "id": "ca080ad7-7412-438c-a9b8-3b80fd52cc46",
   "metadata": {},
   "outputs": [
    {
     "name": "stderr",
     "output_type": "stream",
     "text": [
      "/usr/local/lib/python3.10/dist-packages/keras/initializers/initializers.py:120: UserWarning: The initializer TruncatedNormal is unseeded and being called multiple times, which will return identical values each time (even if the initializer is unseeded). Please update your code to provide a seed to the initializer, or avoid using the same initalizer instance more than once.\n",
      "  warnings.warn(\n"
     ]
    },
    {
     "name": "stdout",
     "output_type": "stream",
     "text": [
      "Epoch 1/10\n"
     ]
    },
    {
     "name": "stderr",
     "output_type": "stream",
     "text": [
      "2024-05-05 19:37:47.278768: I tensorflow/core/common_runtime/executor.cc:1209] [/device:CPU:0] (DEBUG INFO) Executor start aborting (this does not indicate an error and you can ignore this message): INVALID_ARGUMENT: You must feed a value for placeholder tensor 'Placeholder/_0' with dtype int32\n",
      "\t [[{{node Placeholder/_0}}]]\n"
     ]
    },
    {
     "name": "stdout",
     "output_type": "stream",
     "text": [
      "748/755 [============================>.] - ETA: 0s - loss: 0.5896 - auc: 0.5681 - regularization_loss: 0.0000e+00 - loss_batch: 0.5896"
     ]
    },
    {
     "name": "stderr",
     "output_type": "stream",
     "text": [
      "2024-05-05 19:37:55.016141: I tensorflow/core/common_runtime/executor.cc:1209] [/device:CPU:0] (DEBUG INFO) Executor start aborting (this does not indicate an error and you can ignore this message): INVALID_ARGUMENT: You must feed a value for placeholder tensor 'Placeholder/_0' with dtype int32\n",
      "\t [[{{node Placeholder/_0}}]]\n"
     ]
    },
    {
     "name": "stdout",
     "output_type": "stream",
     "text": [
      "755/755 [==============================] - 9s 10ms/step - loss: 0.5891 - auc: 0.5679 - regularization_loss: 0.0000e+00 - loss_batch: 0.5891 - val_loss: 0.5285 - val_auc: 0.6767 - val_regularization_loss: 0.0000e+00 - val_loss_batch: 0.5029\n",
      "Epoch 2/10\n",
      "755/755 [==============================] - 7s 8ms/step - loss: 0.4945 - auc: 0.6733 - regularization_loss: 0.0000e+00 - loss_batch: 0.4945 - val_loss: 0.4750 - val_auc: 0.6894 - val_regularization_loss: 0.0000e+00 - val_loss_batch: 0.4344\n",
      "Epoch 3/10\n",
      "755/755 [==============================] - 7s 9ms/step - loss: 0.4666 - auc: 0.6891 - regularization_loss: 0.0000e+00 - loss_batch: 0.4665 - val_loss: 0.4622 - val_auc: 0.6929 - val_regularization_loss: 0.0000e+00 - val_loss_batch: 0.4184\n",
      "Epoch 4/10\n",
      "755/755 [==============================] - 7s 9ms/step - loss: 0.4598 - auc: 0.6940 - regularization_loss: 0.0000e+00 - loss_batch: 0.4599 - val_loss: 0.4582 - val_auc: 0.6960 - val_regularization_loss: 0.0000e+00 - val_loss_batch: 0.4158\n",
      "Epoch 5/10\n",
      "755/755 [==============================] - 7s 9ms/step - loss: 0.4571 - auc: 0.6969 - regularization_loss: 0.0000e+00 - loss_batch: 0.4570 - val_loss: 0.4563 - val_auc: 0.6985 - val_regularization_loss: 0.0000e+00 - val_loss_batch: 0.4160\n",
      "Epoch 6/10\n",
      "755/755 [==============================] - 6s 8ms/step - loss: 0.4555 - auc: 0.6990 - regularization_loss: 0.0000e+00 - loss_batch: 0.4555 - val_loss: 0.4551 - val_auc: 0.6999 - val_regularization_loss: 0.0000e+00 - val_loss_batch: 0.4165\n",
      "Epoch 7/10\n",
      "755/755 [==============================] - 7s 8ms/step - loss: 0.4544 - auc: 0.7006 - regularization_loss: 0.0000e+00 - loss_batch: 0.4543 - val_loss: 0.4542 - val_auc: 0.7013 - val_regularization_loss: 0.0000e+00 - val_loss_batch: 0.4169\n",
      "Epoch 8/10\n",
      "755/755 [==============================] - 7s 9ms/step - loss: 0.4536 - auc: 0.7021 - regularization_loss: 0.0000e+00 - loss_batch: 0.4536 - val_loss: 0.4535 - val_auc: 0.7024 - val_regularization_loss: 0.0000e+00 - val_loss_batch: 0.4171\n",
      "Epoch 9/10\n",
      "755/755 [==============================] - 6s 8ms/step - loss: 0.4529 - auc: 0.7035 - regularization_loss: 0.0000e+00 - loss_batch: 0.4528 - val_loss: 0.4530 - val_auc: 0.7033 - val_regularization_loss: 0.0000e+00 - val_loss_batch: 0.4171\n",
      "Epoch 10/10\n",
      "755/755 [==============================] - 7s 8ms/step - loss: 0.4523 - auc: 0.7046 - regularization_loss: 0.0000e+00 - loss_batch: 0.4522 - val_loss: 0.4525 - val_auc: 0.7043 - val_regularization_loss: 0.0000e+00 - val_loss_batch: 0.4171\n",
      "CPU times: user 2min 41s, sys: 21.4 s, total: 3min 2s\n",
      "Wall time: 1min 11s\n"
     ]
    }
   ],
   "source": [
    "%%time\n",
    "opt = tf.keras.optimizers.legacy.Adagrad(learning_rate=LR)\n",
    "model.compile(optimizer=opt, run_eagerly=False, metrics=[tf.keras.metrics.AUC(name=\"auc\")])\n",
    "histor_mlp = model.fit(train, validation_data=valid, batch_size=batch_size,epochs=10)"
   ]
  },
  {
   "cell_type": "code",
   "execution_count": 126,
   "id": "20c24319-e081-497a-949b-a42f6735a5a1",
   "metadata": {},
   "outputs": [
    {
     "name": "stdout",
     "output_type": "stream",
     "text": [
      "  1/189 [..............................] - ETA: 37s - loss: 0.5930 - auc: 0.4850 - regularization_loss: 0.0000e+00 - loss_batch: 0.5930"
     ]
    },
    {
     "name": "stderr",
     "output_type": "stream",
     "text": [
      "2024-05-05 19:38:57.951056: I tensorflow/core/common_runtime/executor.cc:1209] [/device:CPU:0] (DEBUG INFO) Executor start aborting (this does not indicate an error and you can ignore this message): INVALID_ARGUMENT: You must feed a value for placeholder tensor 'Placeholder/_0' with dtype int32\n",
      "\t [[{{node Placeholder/_0}}]]\n"
     ]
    },
    {
     "name": "stdout",
     "output_type": "stream",
     "text": [
      "189/189 [==============================] - 1s 4ms/step - loss: 0.4525 - auc: 0.7043 - regularization_loss: 0.0000e+00 - loss_batch: 0.4522\n"
     ]
    },
    {
     "data": {
      "text/plain": [
       "{'loss': 0.45246192812919617,\n",
       " 'auc': 0.7042537927627563,\n",
       " 'regularization_loss': 0.0,\n",
       " 'loss_batch': 0.41707155108451843}"
      ]
     },
     "execution_count": 126,
     "metadata": {},
     "output_type": "execute_result"
    }
   ],
   "source": [
    "metrics_mlp = model.evaluate(valid, batch_size=64, return_dict=True)\n",
    "metrics_mlp"
   ]
  },
  {
   "cell_type": "markdown",
   "id": "734fced5-4f11-49d4-87b9-eb3d8ca114bc",
   "metadata": {},
   "source": [
    "## DLRM Model"
   ]
  },
  {
   "cell_type": "code",
   "execution_count": 127,
   "id": "f75a74ef-a133-46d5-bf29-d6e8dd38ebbf",
   "metadata": {},
   "outputs": [],
   "source": [
    "model = mm.DLRMModel(\n",
    "    train_transformed.schema,\n",
    "    embedding_dim=64,\n",
    "    bottom_block=mm.MLPBlock([128, 64]),\n",
    "    top_block=mm.MLPBlock([128, 64, 32]),\n",
    "    prediction_tasks=mm.BinaryOutput('recommended')\n",
    ")"
   ]
  },
  {
   "cell_type": "code",
   "execution_count": 128,
   "id": "034b5259-34ef-4f6d-ab7d-d81e43e69859",
   "metadata": {},
   "outputs": [
    {
     "name": "stdout",
     "output_type": "stream",
     "text": [
      "Epoch 1/10\n"
     ]
    },
    {
     "name": "stderr",
     "output_type": "stream",
     "text": [
      "2024-05-05 19:39:00.532558: I tensorflow/core/common_runtime/executor.cc:1209] [/device:CPU:0] (DEBUG INFO) Executor start aborting (this does not indicate an error and you can ignore this message): INVALID_ARGUMENT: You must feed a value for placeholder tensor 'Placeholder/_0' with dtype int32\n",
      "\t [[{{node Placeholder/_0}}]]\n"
     ]
    },
    {
     "name": "stdout",
     "output_type": "stream",
     "text": [
      "752/755 [============================>.] - ETA: 0s - loss: 0.5640 - auc: 0.5405 - regularization_loss: 0.0000e+00 - loss_batch: 0.5640"
     ]
    },
    {
     "name": "stderr",
     "output_type": "stream",
     "text": [
      "2024-05-05 19:39:10.361322: I tensorflow/core/common_runtime/executor.cc:1209] [/device:CPU:0] (DEBUG INFO) Executor start aborting (this does not indicate an error and you can ignore this message): INVALID_ARGUMENT: You must feed a value for placeholder tensor 'Placeholder/_0' with dtype int32\n",
      "\t [[{{node Placeholder/_0}}]]\n"
     ]
    },
    {
     "name": "stdout",
     "output_type": "stream",
     "text": [
      "755/755 [==============================] - 12s 11ms/step - loss: 0.5637 - auc: 0.5406 - regularization_loss: 0.0000e+00 - loss_batch: 0.5636 - val_loss: 0.4947 - val_auc: 0.6886 - val_regularization_loss: 0.0000e+00 - val_loss_batch: 0.4659\n",
      "Epoch 2/10\n",
      "755/755 [==============================] - 8s 10ms/step - loss: 0.4726 - auc: 0.6920 - regularization_loss: 0.0000e+00 - loss_batch: 0.4726 - val_loss: 0.4608 - val_auc: 0.6979 - val_regularization_loss: 0.0000e+00 - val_loss_batch: 0.4419\n",
      "Epoch 3/10\n",
      "755/755 [==============================] - 8s 10ms/step - loss: 0.4579 - auc: 0.6986 - regularization_loss: 0.0000e+00 - loss_batch: 0.4580 - val_loss: 0.4559 - val_auc: 0.6981 - val_regularization_loss: 0.0000e+00 - val_loss_batch: 0.4449\n",
      "Epoch 4/10\n",
      "755/755 [==============================] - 7s 9ms/step - loss: 0.4552 - auc: 0.6992 - regularization_loss: 0.0000e+00 - loss_batch: 0.4552 - val_loss: 0.4545 - val_auc: 0.6979 - val_regularization_loss: 0.0000e+00 - val_loss_batch: 0.4467\n",
      "Epoch 5/10\n",
      "755/755 [==============================] - 7s 9ms/step - loss: 0.4541 - auc: 0.6993 - regularization_loss: 0.0000e+00 - loss_batch: 0.4539 - val_loss: 0.4539 - val_auc: 0.6982 - val_regularization_loss: 0.0000e+00 - val_loss_batch: 0.4473\n",
      "Epoch 6/10\n",
      "755/755 [==============================] - 8s 10ms/step - loss: 0.4535 - auc: 0.6993 - regularization_loss: 0.0000e+00 - loss_batch: 0.4535 - val_loss: 0.4535 - val_auc: 0.6984 - val_regularization_loss: 0.0000e+00 - val_loss_batch: 0.4476\n",
      "Epoch 7/10\n",
      "755/755 [==============================] - 8s 10ms/step - loss: 0.4532 - auc: 0.6995 - regularization_loss: 0.0000e+00 - loss_batch: 0.4534 - val_loss: 0.4533 - val_auc: 0.6983 - val_regularization_loss: 0.0000e+00 - val_loss_batch: 0.4477\n",
      "Epoch 8/10\n",
      "755/755 [==============================] - 7s 9ms/step - loss: 0.4530 - auc: 0.6993 - regularization_loss: 0.0000e+00 - loss_batch: 0.4530 - val_loss: 0.4532 - val_auc: 0.6983 - val_regularization_loss: 0.0000e+00 - val_loss_batch: 0.4478\n",
      "Epoch 9/10\n",
      "755/755 [==============================] - 7s 9ms/step - loss: 0.4528 - auc: 0.6994 - regularization_loss: 0.0000e+00 - loss_batch: 0.4528 - val_loss: 0.4531 - val_auc: 0.6982 - val_regularization_loss: 0.0000e+00 - val_loss_batch: 0.4476\n",
      "Epoch 10/10\n",
      "755/755 [==============================] - 7s 9ms/step - loss: 0.4527 - auc: 0.6995 - regularization_loss: 0.0000e+00 - loss_batch: 0.4528 - val_loss: 0.4530 - val_auc: 0.6979 - val_regularization_loss: 0.0000e+00 - val_loss_batch: 0.4475\n",
      "CPU times: user 2min 45s, sys: 21.7 s, total: 3min 6s\n",
      "Wall time: 1min 19s\n"
     ]
    }
   ],
   "source": [
    "%%time\n",
    "opt = tf.keras.optimizers.legacy.Adagrad(learning_rate=LR)\n",
    "model.compile(optimizer=opt, run_eagerly=False, metrics=[tf.keras.metrics.AUC(name=\"auc\")])\n",
    "history_dlrm = model.fit(train, validation_data=valid, batch_size=batch_size,epochs=10)"
   ]
  },
  {
   "cell_type": "code",
   "execution_count": 129,
   "id": "9bc1ca44-4f10-43a4-965a-1d4431e85207",
   "metadata": {},
   "outputs": [
    {
     "name": "stderr",
     "output_type": "stream",
     "text": [
      "2024-05-05 19:40:19.338611: I tensorflow/core/common_runtime/executor.cc:1209] [/device:CPU:0] (DEBUG INFO) Executor start aborting (this does not indicate an error and you can ignore this message): INVALID_ARGUMENT: You must feed a value for placeholder tensor 'Placeholder/_0' with dtype int32\n",
      "\t [[{{node Placeholder/_0}}]]\n"
     ]
    },
    {
     "name": "stdout",
     "output_type": "stream",
     "text": [
      "189/189 [==============================] - 1s 6ms/step - loss: 0.4530 - auc: 0.6979 - regularization_loss: 0.0000e+00 - loss_batch: 0.4530\n"
     ]
    },
    {
     "data": {
      "text/plain": [
       "{'loss': 0.45304444432258606,\n",
       " 'auc': 0.6979348659515381,\n",
       " 'regularization_loss': 0.0,\n",
       " 'loss_batch': 0.4475032389163971}"
      ]
     },
     "execution_count": 129,
     "metadata": {},
     "output_type": "execute_result"
    }
   ],
   "source": [
    "metrics_dlrm = model.evaluate(valid, batch_size=64, return_dict=True)\n",
    "metrics_dlrm"
   ]
  },
  {
   "cell_type": "markdown",
   "id": "af1d5d90-1d22-4e7c-99f8-cb2de380eabe",
   "metadata": {},
   "source": [
    "## DCN Model"
   ]
  },
  {
   "cell_type": "code",
   "execution_count": 130,
   "id": "4034afdb-4fa4-4b47-bddc-254abf2e88ad",
   "metadata": {},
   "outputs": [],
   "source": [
    "model = mm.DCNModel(\n",
    "    schema,\n",
    "    depth=2,\n",
    "    deep_block=mm.MLPBlock([64, 32]),\n",
    "    prediction_tasks=mm.BinaryOutput(target_column),\n",
    ")"
   ]
  },
  {
   "cell_type": "code",
   "execution_count": 131,
   "id": "ce44bc68-47a2-4907-9bed-1e144fc581f6",
   "metadata": {},
   "outputs": [
    {
     "name": "stdout",
     "output_type": "stream",
     "text": [
      "Epoch 1/10\n"
     ]
    },
    {
     "name": "stderr",
     "output_type": "stream",
     "text": [
      "2024-05-05 19:40:22.714963: I tensorflow/core/common_runtime/executor.cc:1209] [/device:CPU:0] (DEBUG INFO) Executor start aborting (this does not indicate an error and you can ignore this message): INVALID_ARGUMENT: You must feed a value for placeholder tensor 'Placeholder/_0' with dtype int32\n",
      "\t [[{{node Placeholder/_0}}]]\n"
     ]
    },
    {
     "name": "stdout",
     "output_type": "stream",
     "text": [
      "748/755 [============================>.] - ETA: 0s - loss: 0.6297 - auc: 0.4233 - regularization_loss: 0.0000e+00 - loss_batch: 0.6297"
     ]
    },
    {
     "name": "stderr",
     "output_type": "stream",
     "text": [
      "2024-05-05 19:40:31.227063: I tensorflow/core/common_runtime/executor.cc:1209] [/device:CPU:0] (DEBUG INFO) Executor start aborting (this does not indicate an error and you can ignore this message): INVALID_ARGUMENT: You must feed a value for placeholder tensor 'Placeholder/_0' with dtype int32\n",
      "\t [[{{node Placeholder/_0}}]]\n"
     ]
    },
    {
     "name": "stdout",
     "output_type": "stream",
     "text": [
      "755/755 [==============================] - 10s 10ms/step - loss: 0.6292 - auc: 0.4240 - regularization_loss: 0.0000e+00 - loss_batch: 0.6291 - val_loss: 0.5814 - val_auc: 0.4528 - val_regularization_loss: 0.0000e+00 - val_loss_batch: 0.5553\n",
      "Epoch 2/10\n",
      "755/755 [==============================] - 7s 9ms/step - loss: 0.5471 - auc: 0.5577 - regularization_loss: 0.0000e+00 - loss_batch: 0.5470 - val_loss: 0.5155 - val_auc: 0.6703 - val_regularization_loss: 0.0000e+00 - val_loss_batch: 0.4841\n",
      "Epoch 3/10\n",
      "755/755 [==============================] - 7s 9ms/step - loss: 0.4968 - auc: 0.6803 - regularization_loss: 0.0000e+00 - loss_batch: 0.4969 - val_loss: 0.4809 - val_auc: 0.6933 - val_regularization_loss: 0.0000e+00 - val_loss_batch: 0.4503\n",
      "Epoch 4/10\n",
      "755/755 [==============================] - 7s 9ms/step - loss: 0.4733 - auc: 0.6944 - regularization_loss: 0.0000e+00 - loss_batch: 0.4731 - val_loss: 0.4666 - val_auc: 0.6967 - val_regularization_loss: 0.0000e+00 - val_loss_batch: 0.4388\n",
      "Epoch 5/10\n",
      "755/755 [==============================] - 7s 9ms/step - loss: 0.4636 - auc: 0.6976 - regularization_loss: 0.0000e+00 - loss_batch: 0.4637 - val_loss: 0.4607 - val_auc: 0.6977 - val_regularization_loss: 0.0000e+00 - val_loss_batch: 0.4359\n",
      "Epoch 6/10\n",
      "755/755 [==============================] - 7s 9ms/step - loss: 0.4594 - auc: 0.6990 - regularization_loss: 0.0000e+00 - loss_batch: 0.4594 - val_loss: 0.4580 - val_auc: 0.6986 - val_regularization_loss: 0.0000e+00 - val_loss_batch: 0.4353\n",
      "Epoch 7/10\n",
      "755/755 [==============================] - 7s 9ms/step - loss: 0.4573 - auc: 0.6999 - regularization_loss: 0.0000e+00 - loss_batch: 0.4573 - val_loss: 0.4565 - val_auc: 0.6994 - val_regularization_loss: 0.0000e+00 - val_loss_batch: 0.4352\n",
      "Epoch 8/10\n",
      "755/755 [==============================] - 8s 10ms/step - loss: 0.4559 - auc: 0.7008 - regularization_loss: 0.0000e+00 - loss_batch: 0.4559 - val_loss: 0.4555 - val_auc: 0.6999 - val_regularization_loss: 0.0000e+00 - val_loss_batch: 0.4351\n",
      "Epoch 9/10\n",
      "755/755 [==============================] - 7s 9ms/step - loss: 0.4550 - auc: 0.7015 - regularization_loss: 0.0000e+00 - loss_batch: 0.4550 - val_loss: 0.4548 - val_auc: 0.7004 - val_regularization_loss: 0.0000e+00 - val_loss_batch: 0.4348\n",
      "Epoch 10/10\n",
      "755/755 [==============================] - 7s 9ms/step - loss: 0.4543 - auc: 0.7021 - regularization_loss: 0.0000e+00 - loss_batch: 0.4545 - val_loss: 0.4542 - val_auc: 0.7011 - val_regularization_loss: 0.0000e+00 - val_loss_batch: 0.4344\n",
      "CPU times: user 2min 45s, sys: 22.6 s, total: 3min 8s\n",
      "Wall time: 1min 16s\n"
     ]
    }
   ],
   "source": [
    "%%time\n",
    "opt = tf.keras.optimizers.legacy.Adagrad(learning_rate=LR)\n",
    "model.compile(optimizer=opt, run_eagerly=False, metrics=[tf.keras.metrics.AUC(name=\"auc\")])\n",
    "history_DCN = model.fit(train, validation_data=valid, batch_size=batch_size,epochs=10)"
   ]
  },
  {
   "cell_type": "code",
   "execution_count": 132,
   "id": "b8a45ec2-71ce-403b-9992-3794c277ef08",
   "metadata": {},
   "outputs": [
    {
     "name": "stdout",
     "output_type": "stream",
     "text": [
      "  1/189 [..............................] - ETA: 37s - loss: 0.6117 - auc: 0.4551 - regularization_loss: 0.0000e+00 - loss_batch: 0.6117"
     ]
    },
    {
     "name": "stderr",
     "output_type": "stream",
     "text": [
      "2024-05-05 19:41:38.558355: I tensorflow/core/common_runtime/executor.cc:1209] [/device:CPU:0] (DEBUG INFO) Executor start aborting (this does not indicate an error and you can ignore this message): INVALID_ARGUMENT: You must feed a value for placeholder tensor 'Placeholder/_0' with dtype int32\n",
      "\t [[{{node Placeholder/_0}}]]\n"
     ]
    },
    {
     "name": "stdout",
     "output_type": "stream",
     "text": [
      "189/189 [==============================] - 1s 5ms/step - loss: 0.4542 - auc: 0.7011 - regularization_loss: 0.0000e+00 - loss_batch: 0.4541\n"
     ]
    },
    {
     "data": {
      "text/plain": [
       "{'loss': 0.4542255997657776,\n",
       " 'auc': 0.7010928988456726,\n",
       " 'regularization_loss': 0.0,\n",
       " 'loss_batch': 0.4344296455383301}"
      ]
     },
     "execution_count": 132,
     "metadata": {},
     "output_type": "execute_result"
    }
   ],
   "source": [
    "metrics_dcn = model.evaluate(valid, batch_size=64, return_dict=True)\n",
    "metrics_dcn"
   ]
  },
  {
   "cell_type": "markdown",
   "id": "8867ee10-6a51-4565-94da-cad6bc18c000",
   "metadata": {},
   "source": [
    "## XGBoost"
   ]
  },
  {
   "cell_type": "code",
   "execution_count": 155,
   "id": "c716e8de-d898-4714-88e0-3a82b5d0a47c",
   "metadata": {},
   "outputs": [],
   "source": [
    "userId = ['username'] >> nvt.ops.Categorify() >> nvt.ops.AddTags(tags=[Tags.USER_ID, Tags.CATEGORICAL, Tags.USER])\n",
    "movieId = ['anime_name'] >> nvt.ops.Categorify() >> nvt.ops.AddTags(tags=[Tags.ITEM_ID, Tags.CATEGORICAL, Tags.ITEM])\n",
    "genre = ['genre_list'] >> nvt.ops.Categorify(freq_threshold=7) >> TagAsItemFeatures()\n",
    "studio = ['studios'] >> nvt.ops.Categorify(freq_threshold=7) >> TagAsItemFeatures()\n",
    "source = ['source'] >> nvt.ops.Categorify(freq_threshold=7) >> TagAsItemFeatures()\n",
    "\n",
    "recommended = ['recommended'] >> LambdaOp(lambda x:x*1) >> nvt.ops.AddTags(tags=[Tags.TARGET, Tags.BINARY_CLASSIFICATION])\n",
    "score = (['score'] >>\n",
    "         nvt.ops.FillMissing(5) >>\n",
    "         nvt.ops.Normalize() >>\n",
    "         LambdaOp(lambda x: x.astype(\"float32\"))>>\n",
    "         TagAsItemFeatures()\n",
    "        )\n",
    "type = (['type'] >>\n",
    "        nvt.ops.FillMissing('Old') >>\n",
    "        nvt.ops.Categorify() >>\n",
    "        TagAsItemFeatures()\n",
    "       )\n",
    "rating = (['rating'] >>\n",
    "        nvt.ops.FillMissing('Not Rated') >>\n",
    "        nvt.ops.Categorify() >>\n",
    "        TagAsItemFeatures()\n",
    "       )\n",
    "\n",
    "workflow = nvt.Workflow(userId + movieId + genre + recommended + score + type + rating + studio + source)\n",
    "\n",
    "train = workflow.fit_transform(train_ds)\n",
    "valid = workflow.transform(valid_ds)"
   ]
  },
  {
   "cell_type": "code",
   "execution_count": 154,
   "id": "89363432-0a03-4cda-b132-7d39313b8f38",
   "metadata": {},
   "outputs": [
    {
     "name": "stderr",
     "output_type": "stream",
     "text": [
      "/usr/local/lib/python3.10/dist-packages/distributed/node.py:182: UserWarning: Port 8787 is already in use.\n",
      "Perhaps you already have a cluster running?\n",
      "Hosting the HTTP server on port 38933 instead\n",
      "  warnings.warn(\n",
      "2024-05-05 19:49:08,378 - distributed.preloading - INFO - Creating preload: dask_cuda.initialize\n",
      "2024-05-05 19:49:08,378 - distributed.preloading - INFO - Import preload module: dask_cuda.initialize\n",
      "/usr/local/lib/python3.10/dist-packages/merlin/models/xgb/__init__.py:343: UserWarning: Ignoring list columns as inputs to XGBoost model: ['genre_list', 'studios', 'source'].\n",
      "  warnings.warn(f\"Ignoring list columns as inputs to XGBoost model: {list_column_names}.\")\n",
      "/usr/local/lib/python3.10/dist-packages/merlin/dtypes/mappings/torch.py:43: UserWarning: PyTorch dtype mappings did not load successfully due to an error: No module named 'torch'\n",
      "  warn(f\"PyTorch dtype mappings did not load successfully due to an error: {exc.msg}\")\n",
      "/usr/local/lib/python3.10/dist-packages/xgboost/dask.py:884: RuntimeWarning: coroutine 'Client._wait_for_workers' was never awaited\n",
      "  client.wait_for_workers(n_workers)\n",
      "RuntimeWarning: Enable tracemalloc to get the object allocation traceback\n",
      "/usr/local/lib/python3.10/dist-packages/distributed/worker_state_machine.py:3745: FutureWarning: The `Worker.nthreads` attribute has been moved to `Worker.state.nthreads`\n",
      "  warnings.warn(\n",
      "[19:49:36] task [xgboost.dask-0]:tcp://127.0.0.1:37075 got new rank 0\n"
     ]
    },
    {
     "name": "stdout",
     "output_type": "stream",
     "text": [
      "[0]\tvalidation_set-logloss:0.57662\n",
      "[15]\tvalidation_set-logloss:0.48362\n"
     ]
    }
   ],
   "source": [
    "xgb_booster_params = {\n",
    "    'objective':'binary:logistic',\n",
    "    'tree_method':'gpu_hist',\n",
    "}\n",
    "\n",
    "xgb_train_params = {\n",
    "    'num_boost_round': 100,\n",
    "    'verbose_eval': 20,\n",
    "    'early_stopping_rounds': 10,\n",
    "}\n",
    "\n",
    "with Distributed():\n",
    "    model = XGBoost(schema=train.schema, **xgb_booster_params)\n",
    "    model.fit(\n",
    "        train,\n",
    "        evals=[(valid, 'validation_set'),],\n",
    "        **xgb_train_params\n",
    "    )\n",
    "    metrics = model.evaluate(valid)\n",
    "\n"
   ]
  },
  {
   "cell_type": "code",
   "execution_count": null,
   "id": "8fedf26a-ed21-464f-a5be-faed5364273a",
   "metadata": {},
   "outputs": [],
   "source": []
  }
 ],
 "metadata": {
  "kernelspec": {
   "display_name": "Python 3 (ipykernel)",
   "language": "python",
   "name": "python3"
  },
  "language_info": {
   "codemirror_mode": {
    "name": "ipython",
    "version": 3
   },
   "file_extension": ".py",
   "mimetype": "text/x-python",
   "name": "python",
   "nbconvert_exporter": "python",
   "pygments_lexer": "ipython3",
   "version": "3.10.12"
  }
 },
 "nbformat": 4,
 "nbformat_minor": 5
}
